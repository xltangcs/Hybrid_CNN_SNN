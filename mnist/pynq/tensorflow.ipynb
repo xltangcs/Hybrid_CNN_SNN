{
 "cells": [
  {
   "cell_type": "code",
   "execution_count": 47,
   "metadata": {},
   "outputs": [],
   "source": [
    "import time\n",
    "from pynq import Overlay\n",
    "import numpy as np\n",
    "from pynq import Xlnk\n",
    "import struct\n",
    "from scipy.misc import imread\n",
    "import cv2\n",
    "import gzip\n",
    "import numpy as np\n",
    "import matplotlib.pyplot as plt"
   ]
  },
  {
   "cell_type": "code",
   "execution_count": 48,
   "metadata": {},
   "outputs": [],
   "source": [
    "def readbinfile(filename,size):\n",
    "    z = []\n",
    "    with open(filename, \"r\") as f:\n",
    "        lines = f.readlines()\n",
    "        for line in lines:\n",
    "            line = line.strip()\n",
    "            z.append(float(line))\n",
    "        z = np.array(z)\n",
    "            \n",
    "#     f = open(filename, \"rb\")\n",
    "#     z=[]\n",
    "#     for j in range(size):\n",
    "#         data = f.read(4)\n",
    "#         if len(data) != 4:\n",
    "#             continue\n",
    "#         data_float = struct.unpack(\"f\", data)[0]\n",
    "#         z.append(data_float)\n",
    "#     f.close()\n",
    "#     z = np.array(z)\n",
    "    return z"
   ]
  },
  {
   "cell_type": "code",
   "execution_count": 49,
   "metadata": {},
   "outputs": [],
   "source": [
    "def RunConv(conv, K, S, pd, relu, feature_in,W,bias,feature_out):\n",
    "    conv.write(0x10,feature_in.shape[2])\n",
    "    conv.write(0x18,feature_out.shape[2])\n",
    "    conv.write(0x20,feature_in.shape[0])\n",
    "    conv.write(0x28,feature_in.shape[1])\n",
    "    conv.write(0x30,K)\n",
    "    conv.write(0x38,S)\n",
    "    conv.write(0x40,relu)\n",
    "    conv.write(0x48,pd)\n",
    "    conv.write(0x50,feature_in.physical_address)\n",
    "    conv.write(0x58,W.physical_address)\n",
    "    conv.write(0x60,bias.physical_address)\n",
    "    conv.write(0x68,feature_out.physical_address)\n",
    "    conv.write(0, (conv.read(0)&0x80)|0x01 )\n",
    "    tp=conv.read(0)\n",
    "    while not ((tp>>1)&0x1):\n",
    "        tp=conv.read(0)\n",
    "    #print(tp);"
   ]
  },
  {
   "cell_type": "code",
   "execution_count": 50,
   "metadata": {},
   "outputs": [],
   "source": [
    "def RunPool(pool,K, mode,feature_in,feature_out):\n",
    "    pool.write(0x10,feature_in.shape[2])\n",
    "    pool.write(0x18,feature_in.shape[0])\n",
    "    pool.write(0x20,feature_in.shape[1])\n",
    "    pool.write(0x28,K)\n",
    "    pool.write(0x30,mode)\n",
    "    pool.write(0x38,feature_in.physical_address)\n",
    "    pool.write(0x40,feature_out.physical_address)\n",
    "    pool.write(0, (pool.read(0)&0x80)|0x01 )\n",
    "    while not ((pool.read(0)>>1)&0x1):\n",
    "        pass"
   ]
  },
  {
   "cell_type": "code",
   "execution_count": 51,
   "metadata": {},
   "outputs": [],
   "source": [
    "def RunConv1(conv,Kx,Ky,Sx,Sy,mode,relu_en,feature_in,W,bias,feature_out):\n",
    "    conv.write(0x10,feature_in.shape[2])\n",
    "    conv.write(0x18,feature_in.shape[0])\n",
    "    conv.write(0x20,feature_in.shape[1])\n",
    "    conv.write(0x28,feature_out.shape[2])\n",
    "    conv.write(0x30,Kx)\n",
    "    conv.write(0x38,Ky)\n",
    "    conv.write(0x40,Sx)\n",
    "    conv.write(0x48,Sy)\n",
    "    conv.write(0x50,mode)\n",
    "    conv.write(0x58,relu_en)\n",
    "    conv.write(0x60,feature_in.physical_address)\n",
    "    conv.write(0x68,W.physical_address)\n",
    "    conv.write(0x70,bias.physical_address)\n",
    "    conv.write(0x78,feature_out.physical_address)\n",
    "    conv.write(0, (conv.read(0)&0x80)|0x01 )\n",
    "    tp=conv.read(0)\n",
    "    while not ((tp>>1)&0x1):\n",
    "        tp=conv.read(0)\n",
    "    #print(tp);\n",
    "\n",
    "\n",
    "# In[34]:\n",
    "\n",
    "\n",
    "def RunPool1(pool,Kx,Ky,mode,feature_in,feature_out):\n",
    "    pool.write(0x10,feature_in.shape[2])\n",
    "    pool.write(0x18,feature_in.shape[0])\n",
    "    pool.write(0x20,feature_in.shape[1])\n",
    "    pool.write(0x28,Kx)\n",
    "    pool.write(0x30,Ky)\n",
    "    pool.write(0x38,mode)\n",
    "    pool.write(0x40,feature_in.physical_address)\n",
    "    pool.write(0x48,feature_out.physical_address)\n",
    "    pool.write(0, (pool.read(0)&0x80)|0x01 )\n",
    "    while not ((pool.read(0)>>1)&0x1):\n",
    "        pass"
   ]
  },
  {
   "cell_type": "code",
   "execution_count": 52,
   "metadata": {},
   "outputs": [],
   "source": [
    "#Conv1\n",
    "IN_WIDTH1  = 28\n",
    "IN_HEIGHT1 = 28\n",
    "IN_CH1     = 1\n",
    "\n",
    "KERNEL_WIDTH1  = 5\n",
    "KERNEL_HEIGHT1 = 5\n",
    "X_STRIDE1      = 1\n",
    "Y_STRIDE1      = 1\n",
    "\n",
    "RELU_EN1 = 1\n",
    "MODE1    = 0    #0:VALID, 1:SAME\n",
    "\n",
    "if(MODE1):\n",
    "    X_PADDING1=int((KERNEL_WIDTH1-1)/2)\n",
    "    Y_PADDING1=int((KERNEL_HEIGHT1-1)/2)\n",
    "else:\n",
    "    X_PADDING1=0\n",
    "    Y_PADDING1=0\n",
    "\n",
    "OUT_CH1     = 16\n",
    "OUT_WIDTH1  = int((IN_WIDTH1+2*X_PADDING1-KERNEL_WIDTH1)/X_STRIDE1+1)\n",
    "OUT_HEIGHT1 = int((IN_HEIGHT1+2*Y_PADDING1-KERNEL_HEIGHT1)/Y_STRIDE1+1)\n"
   ]
  },
  {
   "cell_type": "code",
   "execution_count": 53,
   "metadata": {},
   "outputs": [],
   "source": [
    "#Pool1\n",
    "MODE11      = 0\n",
    "IN_WIDTH11  = OUT_WIDTH1\n",
    "IN_HEIGHT11 = OUT_HEIGHT1\n",
    "IN_CH11     = OUT_CH1\n",
    "\n",
    "KERNEL_WIDTH11=2\n",
    "KERNEL_HEIGHT11=2\n",
    "\n",
    "OUT_CH11=IN_CH11\n",
    "OUT_WIDTH11=int(IN_WIDTH11/KERNEL_WIDTH11)\n",
    "OUT_HEIGHT11=int(IN_HEIGHT11/KERNEL_HEIGHT11)"
   ]
  },
  {
   "cell_type": "code",
   "execution_count": 54,
   "metadata": {},
   "outputs": [],
   "source": [
    "#Conv2\n",
    "IN_WIDTH2=OUT_WIDTH11\n",
    "IN_HEIGHT2=OUT_HEIGHT11\n",
    "IN_CH2=OUT_CH11\n",
    "\n",
    "KERNEL_WIDTH2=5\n",
    "KERNEL_HEIGHT2=5\n",
    "X_STRIDE2 = 1\n",
    "Y_STRIDE2 = 1\n",
    "\n",
    "RELU_EN2 = 1\n",
    "MODE2    = 0  #0:VALID, 1:SAME\n",
    "if(MODE2):\n",
    "    X_PADDING2=int((KERNEL_WIDTH2-1)/2)\n",
    "    Y_PADDING2=int((KERNEL_HEIGHT2-1)/2)\n",
    "else:\n",
    "    X_PADDING2=0\n",
    "    Y_PADDING2=0\n",
    "\n",
    "OUT_CH2=32\n",
    "OUT_WIDTH2=int((IN_WIDTH2+2*X_PADDING2-KERNEL_WIDTH2)/X_STRIDE2+1)\n",
    "OUT_HEIGHT2=int((IN_HEIGHT2+2*Y_PADDING2-KERNEL_HEIGHT2)/Y_STRIDE2+1)\n"
   ]
  },
  {
   "cell_type": "code",
   "execution_count": 55,
   "metadata": {},
   "outputs": [],
   "source": [
    "#Pool2\n",
    "MODE21 = 0\n",
    "IN_WIDTH21=OUT_WIDTH2\n",
    "IN_HEIGHT21=OUT_HEIGHT2\n",
    "IN_CH21=OUT_CH2\n",
    "\n",
    "KERNEL_WIDTH21=2\n",
    "KERNEL_HEIGHT21=2\n",
    "\n",
    "OUT_CH21=IN_CH21\n",
    "OUT_WIDTH21=int(IN_WIDTH21/KERNEL_WIDTH21)\n",
    "OUT_HEIGHT21=int(IN_HEIGHT21/KERNEL_HEIGHT21)"
   ]
  },
  {
   "cell_type": "code",
   "execution_count": 56,
   "metadata": {},
   "outputs": [
    {
     "name": "stdout",
     "output_type": "stream",
     "text": [
      "1\n"
     ]
    }
   ],
   "source": [
    "#Fc1\n",
    "IN_WIDTH3=OUT_WIDTH21\n",
    "IN_HEIGHT3=OUT_HEIGHT21\n",
    "IN_CH3=OUT_CH21\n",
    "\n",
    "KERNEL_WIDTH3=4\n",
    "KERNEL_HEIGHT3=4\n",
    "X_STRIDE3=4\n",
    "Y_STRIDE3=4\n",
    "\n",
    "RELU_EN3=1\n",
    "MODE3=0  #0:VALID, 1:SAME\n",
    "if(MODE3):\n",
    "    X_PADDING3=int((KERNEL_WIDTH3-1/2))\n",
    "    Y_PADDING3=int((KERNEL_HEIGHT3-1)/2)\n",
    "else:\n",
    "    X_PADDING3=0\n",
    "    Y_PADDING3=0\n",
    "\n",
    "OUT_CH3=128\n",
    "OUT_WIDTH3=int((IN_WIDTH3+2*X_PADDING3-KERNEL_WIDTH3)/X_STRIDE3+1)\n",
    "OUT_HEIGHT3=int((IN_HEIGHT3+2*Y_PADDING3-KERNEL_HEIGHT3)/Y_STRIDE3+1)\n",
    "\n",
    "print(OUT_WIDTH3)"
   ]
  },
  {
   "cell_type": "code",
   "execution_count": 57,
   "metadata": {},
   "outputs": [
    {
     "name": "stdout",
     "output_type": "stream",
     "text": [
      "1\n"
     ]
    }
   ],
   "source": [
    "#Fc2\n",
    "IN_WIDTH4=OUT_WIDTH3\n",
    "IN_HEIGHT4=OUT_HEIGHT3\n",
    "IN_CH4=OUT_CH3\n",
    "\n",
    "KERNEL_WIDTH4=1\n",
    "KERNEL_HEIGHT4=1\n",
    "X_STRIDE4=1\n",
    "Y_STRIDE4=1\n",
    "\n",
    "RELU_EN4=1\n",
    "MODE4=0  #0:VALID, 1:SAME\n",
    "if(MODE4):\n",
    "    X_PADDING4=int((KERNEL_WIDTH4-1/2))\n",
    "    Y_PADDING4=int((KERNEL_HEIGHT4-1)/2)\n",
    "else:\n",
    "    X_PADDING4=0\n",
    "    Y_PADDING4=0\n",
    "\n",
    "OUT_CH4=10\n",
    "OUT_WIDTH4=int((IN_WIDTH4+2*X_PADDING4-KERNEL_WIDTH4)/X_STRIDE4+1)\n",
    "OUT_HEIGHT4=int((IN_HEIGHT4+2*Y_PADDING4-KERNEL_HEIGHT4)/Y_STRIDE4+1)\n",
    "print(IN_WIDTH4)"
   ]
  },
  {
   "cell_type": "code",
   "execution_count": 58,
   "metadata": {},
   "outputs": [
    {
     "name": "stdout",
     "output_type": "stream",
     "text": [
      "Overlay download finish\n"
     ]
    }
   ],
   "source": [
    "xlnk=Xlnk()\n",
    "\n",
    "ol=Overlay(\"/home/xilinx/jupyter_notebooks/CNN/hw/cnn_v3.bit\")\n",
    "ol.ip_dict\n",
    "ol.download()\n",
    "conv=ol.Conv_0\n",
    "pool=ol.Pooling_0\n",
    "\n",
    "print(\"Overlay download finish\");  \n"
   ]
  },
  {
   "cell_type": "code",
   "execution_count": 59,
   "metadata": {},
   "outputs": [],
   "source": [
    "#input image\n",
    "image=xlnk.cma_array(shape=(IN_HEIGHT1,IN_WIDTH1,IN_CH1),cacheable=0,dtype=np.float32)\n",
    "\n",
    "#conv1\n",
    "w_conv1=xlnk.cma_array(shape=(KERNEL_HEIGHT1,KERNEL_WIDTH1,IN_CH1,OUT_CH1),cacheable=0,dtype=np.float32)\n",
    "b_conv1=xlnk.cma_array(shape=(OUT_CH1),cacheable=0,dtype=np.float32)\n",
    "h_conv1=xlnk.cma_array(shape=(OUT_HEIGHT1,OUT_WIDTH1,OUT_CH1),cacheable=0,dtype=np.float32)\n",
    "h_pool1=xlnk.cma_array(shape=(OUT_HEIGHT11,OUT_WIDTH11,OUT_CH11),cacheable=0,dtype=np.float32)\n",
    "\n",
    "#conv2\n",
    "w_conv2=xlnk.cma_array(shape=(KERNEL_HEIGHT2,KERNEL_WIDTH2,IN_CH2,OUT_CH2),cacheable=0,dtype=np.float32)\n",
    "b_conv2=xlnk.cma_array(shape=(OUT_CH2),cacheable=0,dtype=np.float32)\n",
    "h_conv2=xlnk.cma_array(shape=(OUT_HEIGHT2,OUT_WIDTH2,OUT_CH2),cacheable=0,dtype=np.float32)\n",
    "h_pool2=xlnk.cma_array(shape=(OUT_HEIGHT21,OUT_WIDTH21,OUT_CH21),cacheable=0,dtype=np.float32)\n",
    "\n",
    "#fc1\n",
    "w_fc1=xlnk.cma_array(shape=(KERNEL_HEIGHT3, KERNEL_WIDTH3, IN_CH3, OUT_CH3),cacheable=0,dtype=np.float32)\n",
    "b_fc1=xlnk.cma_array(shape=(OUT_CH3),cacheable=0,dtype=np.float32)\n",
    "h_fc1=xlnk.cma_array(shape=(OUT_HEIGHT3,OUT_WIDTH3,OUT_CH3),cacheable=0,dtype=np.float32)\n",
    "\n",
    "#fc2\n",
    "w_fc2=xlnk.cma_array(shape=(KERNEL_HEIGHT4, KERNEL_WIDTH4, IN_CH4, OUT_CH4),cacheable=0,dtype=np.float32)\n",
    "b_fc2=xlnk.cma_array(shape=(OUT_CH4),cacheable=0,dtype=np.float32)\n",
    "h_fc2=xlnk.cma_array(shape=(OUT_HEIGHT4,OUT_WIDTH4,OUT_CH4),cacheable=0,dtype=np.float32)"
   ]
  },
  {
   "cell_type": "code",
   "execution_count": 60,
   "metadata": {},
   "outputs": [
    {
     "name": "stdout",
     "output_type": "stream",
     "text": [
      "[ 0.0871691  0.0857268  0.0926211  0.0884191  0.114353   0.0959889  0.16029\n",
      "  0.125864   0.124942   0.123752   0.116943   0.0908626  0.151391\n",
      "  0.0930964  0.0951322  0.083176 ]\n",
      "Finish initial\n"
     ]
    }
   ],
   "source": [
    "\n",
    "#Initialize W, bias\n",
    "W_conv1=readbinfile(\"/home/xilinx/jupyter_notebooks/CNN/data/record/W_conv1.dat\",KERNEL_HEIGHT1*KERNEL_WIDTH1*IN_CH1*OUT_CH1)\n",
    "W_conv1=W_conv1.reshape((KERNEL_HEIGHT1,KERNEL_WIDTH1,IN_CH1,OUT_CH1))\n",
    "for i in range(KERNEL_HEIGHT1):\n",
    "    for j in range(KERNEL_WIDTH1):\n",
    "        for k in range(IN_CH1):\n",
    "        \tfor l in range(OUT_CH1):\n",
    "        \t\tw_conv1[i][j][k][l]=W_conv1[i][j][k][l]\n",
    "                \n",
    "B_conv1=readbinfile(\"/home/xilinx/jupyter_notebooks/CNN/data/record/b_conv1.dat\",OUT_CH1)\n",
    "for i in range(OUT_CH1):\n",
    "\tb_conv1[i]=B_conv1[i]\n",
    "print(b_conv1)\n",
    "\n",
    "W_conv2=readbinfile(\"/home/xilinx/jupyter_notebooks/CNN/data/record/W_conv2.dat\",KERNEL_HEIGHT2*KERNEL_WIDTH2*IN_CH2*OUT_CH2)\n",
    "W_conv2=W_conv2.reshape((KERNEL_HEIGHT2,KERNEL_WIDTH2,IN_CH2,OUT_CH2))\n",
    "for i in range(KERNEL_HEIGHT2):\n",
    "    for j in range(KERNEL_WIDTH2):\n",
    "        for k in range(IN_CH2):\n",
    "        \tfor l in range(OUT_CH2):\n",
    "        \t\tw_conv2[i][j][k][l]=W_conv2[i][j][k][l]\n",
    "                \n",
    "B_conv2=readbinfile(\"/home/xilinx/jupyter_notebooks/CNN/data/record/b_conv2.dat\",OUT_CH2)\n",
    "for i in range(OUT_CH2):\n",
    "\tb_conv2[i]=B_conv2[i]\n",
    "\n",
    "W_fc1=readbinfile(\"/home/xilinx/jupyter_notebooks/CNN/data/record/W_fc1.dat\",KERNEL_HEIGHT3*KERNEL_WIDTH3*IN_CH3*OUT_CH3)\n",
    "W_fc1=W_fc1.reshape((KERNEL_HEIGHT3,KERNEL_WIDTH3,IN_CH3,OUT_CH3))\n",
    "for i in range(KERNEL_HEIGHT3):\n",
    "    for j in range(KERNEL_WIDTH3):\n",
    "        for k in range(IN_CH3):\n",
    "            for l in range(OUT_CH3):\n",
    "                w_fc1[i][j][k][l]=W_fc1[i][j][k][l]\n",
    "                \n",
    "B_fc1=readbinfile(\"/home/xilinx/jupyter_notebooks/CNN/data/record/b_fc1.dat\",OUT_CH3)\n",
    "for i in range(OUT_CH3):\n",
    "    b_fc1[i]=B_fc1[i]\n",
    "\n",
    "W_fc2=readbinfile(\"/home/xilinx/jupyter_notebooks/CNN/data/record/W_fc2.dat\",KERNEL_HEIGHT4*KERNEL_WIDTH4*IN_CH4*OUT_CH4)\n",
    "W_fc2=W_fc2.reshape((KERNEL_HEIGHT4,KERNEL_WIDTH4,IN_CH4,OUT_CH4))\n",
    "for i in range(KERNEL_HEIGHT4):\n",
    "    for j in range(KERNEL_WIDTH4):\n",
    "        for k in range(IN_CH4):\n",
    "            for l in range(OUT_CH4):\n",
    "                w_fc2[i][j][k][l]=W_fc2[i][j][k][l]\n",
    "                \n",
    "B_fc2=readbinfile(\"/home/xilinx/jupyter_notebooks/CNN/data/record/b_fc2.dat\",OUT_CH4)\n",
    "for i in range(OUT_CH4):\n",
    "\tb_fc2[i]=B_fc2[i]\n",
    "\n",
    "print(\"Finish initial\")\n"
   ]
  },
  {
   "cell_type": "code",
   "execution_count": 61,
   "metadata": {},
   "outputs": [],
   "source": [
    "def load_mnist_images(file_path):\n",
    "    with gzip.open(file_path, 'rb') as f:\n",
    "        # 读取文件的头部信息\n",
    "        magic_number = int.from_bytes(f.read(4), 'big')\n",
    "        num_images = int.from_bytes(f.read(4), 'big')\n",
    "        rows = int.from_bytes(f.read(4), 'big')\n",
    "        cols = int.from_bytes(f.read(4), 'big')\n",
    "        \n",
    "        # 检查文件格式\n",
    "        if magic_number != 2051:\n",
    "            raise ValueError(\"This is not a valid MNIST image file!\")\n",
    "        \n",
    "        # 读取图像数据\n",
    "        image_data = f.read()\n",
    "        images = np.frombuffer(image_data, dtype=np.uint8).reshape(num_images, rows, cols)\n",
    "    return images"
   ]
  },
  {
   "cell_type": "code",
   "execution_count": 62,
   "metadata": {},
   "outputs": [],
   "source": [
    "def load_mnist_labels(file_path):\n",
    "    with gzip.open(file_path, 'rb') as f:\n",
    "        magic_number = int.from_bytes(f.read(4), 'big')\n",
    "        num_labels = int.from_bytes(f.read(4), 'big')\n",
    "        \n",
    "        # 检查文件格式\n",
    "        if magic_number != 2049:\n",
    "            raise ValueError(\"This is not a valid MNIST label file!\")\n",
    "        \n",
    "        # 读取标签数据\n",
    "        label_data = f.read()\n",
    "        labels = np.frombuffer(label_data, dtype=np.uint8)\n",
    "    return labels"
   ]
  },
  {
   "cell_type": "code",
   "execution_count": 63,
   "metadata": {},
   "outputs": [],
   "source": [
    "def visualize_image(image):\n",
    "    plt.imshow(image, cmap='gray')\n",
    "    plt.axis('off')\n",
    "    plt.show()"
   ]
  },
  {
   "cell_type": "code",
   "execution_count": 64,
   "metadata": {},
   "outputs": [
    {
     "name": "stdout",
     "output_type": "stream",
     "text": [
      "[[[  54.]\n",
      "  [  63.]\n",
      "  [  72.]]\n",
      "\n",
      " [[  99.]\n",
      "  [ 108.]\n",
      "  [ 117.]]\n",
      "\n",
      " [[ 144.]\n",
      "  [ 153.]\n",
      "  [ 162.]]]\n"
     ]
    }
   ],
   "source": [
    "def test_conv():\n",
    "    timage=xlnk.cma_array(shape=(5,5,1),cacheable=0,dtype=np.float32)\n",
    "    tw_conv1=xlnk.cma_array(shape=(3,3,1,1),cacheable=0,dtype=np.float32)\n",
    "    tb_conv1=xlnk.cma_array(shape=(1),cacheable=0,dtype=np.float32)\n",
    "    \n",
    "    th_conv1=xlnk.cma_array(shape=(3,3,1),cacheable=0,dtype=np.float32)\n",
    "    th_conv2=xlnk.cma_array(shape=(3,3,1),cacheable=0,dtype=np.float32)\n",
    "    \n",
    "    for i in range(5):\n",
    "        for j in range(5):\n",
    "            for cin in range(1):\n",
    "                timage[i][j][cin] = i * 5 + j\n",
    "                \n",
    "    for i in range(3):\n",
    "        for j in range(3):\n",
    "            for k in range(1):\n",
    "                for l in range(1):\n",
    "                    tw_conv1[i][j][k][l] = 1\n",
    "    \n",
    "    for i in range(1):\n",
    "        tb_conv1[i] = 0\n",
    "    \n",
    "    RunConv(conv,3,1,0,0,timage,tw_conv1,tb_conv1,th_conv1)\n",
    "    print(th_conv1)\n",
    "    \n",
    "    # RunConv1(conv1,3,3,1,1,0,0,timage,tw_conv1,tb_conv1,th_conv2)\n",
    "    # print(th_conv2)\n",
    "    \n",
    "    # RunConv(conv,KERNEL_WIDTH1,KERNEL_HEIGHT1,X_STRIDE1,Y_STRIDE1,MODE1,RELU_EN1,image,W_conv1,b_conv1,h_conv1)\n",
    "\n",
    "                \n",
    "test_conv() "
   ]
  },
  {
   "cell_type": "code",
   "execution_count": 65,
   "metadata": {},
   "outputs": [
    {
     "name": "stdout",
     "output_type": "stream",
     "text": [
      "[[[ 20.  21.  22.]\n",
      "  [ 28.  29.  30.]]\n",
      "\n",
      " [[ 52.  53.  54.]\n",
      "  [ 60.  61.  62.]]]\n"
     ]
    }
   ],
   "source": [
    "def test_pool():\n",
    "    inputsize = 4\n",
    "    outputsize = inputsize // 2\n",
    "    ch = 3\n",
    "    feature_in=xlnk.cma_array(shape=(inputsize,inputsize,ch),cacheable=0,dtype=np.float32)\n",
    "    feature_out=xlnk.cma_array(shape=(outputsize,outputsize,ch),cacheable=0,dtype=np.float32)\n",
    "    \n",
    "    for i in range(inputsize):\n",
    "        for j in range(inputsize):\n",
    "            for cin in range(ch):\n",
    "                feature_in[i][j][cin] = i * inputsize * inputsize+ j * inputsize + cin\n",
    "                \n",
    "    RunPool(pool, 2, 0, feature_in, feature_out)\n",
    "    \n",
    "    # RunPool(pool, KERNEL_WIDTH11, KERNEL_HEIGHT11, MODE11, h_conv1, h_pool1)\n",
    "    print(feature_out)\n",
    "\n",
    "                \n",
    "test_pool() "
   ]
  },
  {
   "cell_type": "code",
   "execution_count": 66,
   "metadata": {},
   "outputs": [
    {
     "name": "stdout",
     "output_type": "stream",
     "text": [
      "Loaded 10000 images with size 28x28.\n",
      "10000\n"
     ]
    },
    {
     "data": {
      "image/png": "[encoded data removed]",
      "text/plain": [
       "<matplotlib.figure.Figure at 0xa1c90d70>"
      ]
     },
     "metadata": {},
     "output_type": "display_data"
    },
    {
     "name": "stdout",
     "output_type": "stream",
     "text": [
      "7\n"
     ]
    }
   ],
   "source": [
    "mnist = \"/home/xilinx/jupyter_notebooks/CNN/data/t10k-images-idx3-ubyte.gz\"\n",
    "images = load_mnist_images(mnist)\n",
    "print(f\"Loaded {images.shape[0]} images with size {images.shape[1]}x{images.shape[2]}.\")\n",
    "\n",
    "test_label = \"/home/xilinx/jupyter_notebooks/CNN/data/t10k-labels-idx1-ubyte.gz\"\n",
    "labels = load_mnist_labels(test_label)\n",
    "print(len(labels))\n",
    "\n",
    "# 可视化第一张图像\n",
    "visualize_image(images[0])\n",
    "print(labels[0])"
   ]
  },
  {
   "cell_type": "code",
   "execution_count": 72,
   "metadata": {},
   "outputs": [
    {
     "name": "stdout",
     "output_type": "stream",
     "text": [
      "True\n"
     ]
    }
   ],
   "source": [
    "def test(index):\n",
    "    test_image = images[index]\n",
    "    # visualize_image(images[index])\n",
    "    # print(\"Read image\")\n",
    "    test_image=test_image.reshape((IN_HEIGHT1,IN_WIDTH1,IN_CH1))\n",
    "    for i in range(IN_HEIGHT1):\n",
    "        for j in range(IN_WIDTH1):\n",
    "            for k in range(IN_CH1):\n",
    "                image[i][j][k]=(test_image[i][j])/255\n",
    "                \n",
    "    #conv1\n",
    "    RunConv(conv, KERNEL_WIDTH1,X_STRIDE1,MODE1,RELU_EN1,image,w_conv1,b_conv1,h_conv1)\n",
    "    RunPool(pool, KERNEL_WIDTH11, MODE11, h_conv1, h_pool1)\n",
    "    # conv2\n",
    "    RunConv(conv, KERNEL_WIDTH2, X_STRIDE2, MODE2, RELU_EN2, h_pool1, w_conv2, b_conv2,h_conv2)\n",
    "    RunPool(pool, KERNEL_WIDTH21, MODE21, h_conv2, h_pool2)\n",
    "    # fc1\n",
    "    RunConv(conv, KERNEL_WIDTH3, X_STRIDE3, MODE3, RELU_EN3, h_pool2, w_fc1, b_fc1,h_fc1)\n",
    "    # fc2\n",
    "    RunConv(conv, KERNEL_WIDTH4, X_STRIDE4, MODE4, RELU_EN4, h_fc1, w_fc2, b_fc2,h_fc2)  \n",
    "    \n",
    "    MAX = h_fc2[0][0][0]\n",
    "    \n",
    "    result=0\n",
    "    for i in range(1,OUT_CH4):\n",
    "        if(h_fc2[0][0][i]>MAX):\n",
    "            MAX=h_fc2[0][0][i]\n",
    "            result=i\n",
    "            \n",
    "#     print(h_fc2)   \n",
    "#     print(\"The number you write is \"+str(result))\n",
    "    if result == labels[index]:\n",
    "        return True\n",
    "    else:\n",
    "        return False\n",
    "    \n",
    "print(test(5))"
   ]
  },
  {
   "cell_type": "code",
   "execution_count": 69,
   "metadata": {},
   "outputs": [],
   "source": [
    "def RunConv1(conv,Kx,Ky,Sx,Sy,mode,relu_en,feature_in,W,bias,feature_out):\n",
    "    conv.write(0x10,feature_in.shape[2])\n",
    "    conv.write(0x18,feature_in.shape[0])\n",
    "    conv.write(0x20,feature_in.shape[1])\n",
    "    conv.write(0x28,feature_out.shape[2])\n",
    "    conv.write(0x30,Kx)\n",
    "    conv.write(0x38,Ky)\n",
    "    conv.write(0x40,Sx)\n",
    "    conv.write(0x48,Sy)\n",
    "    conv.write(0x50,mode)\n",
    "    conv.write(0x58,relu_en)\n",
    "    conv.write(0x60,feature_in.physical_address)\n",
    "    conv.write(0x68,W.physical_address)\n",
    "    conv.write(0x70,bias.physical_address)\n",
    "    conv.write(0x78,feature_out.physical_address)\n",
    "    conv.write(0, (conv.read(0)&0x80)|0x01 )\n",
    "    tp=conv.read(0)\n",
    "    while not ((tp>>1)&0x1):\n",
    "        tp=conv.read(0)\n",
    "    #print(tp);\n",
    "\n",
    "\n",
    "# In[34]:\n",
    "\n",
    "\n",
    "def RunPool1(pool,Kx,Ky,mode,feature_in,feature_out):\n",
    "    pool.write(0x10,feature_in.shape[2])\n",
    "    pool.write(0x18,feature_in.shape[0])\n",
    "    pool.write(0x20,feature_in.shape[1])\n",
    "    pool.write(0x28,Kx)\n",
    "    pool.write(0x30,Ky)\n",
    "    pool.write(0x38,mode)\n",
    "    pool.write(0x40,feature_in.physical_address)\n",
    "    pool.write(0x48,feature_out.physical_address)\n",
    "    pool.write(0, (pool.read(0)&0x80)|0x01 )\n",
    "    while not ((pool.read(0)>>1)&0x1):\n",
    "        pass"
   ]
  },
  {
   "cell_type": "code",
   "execution_count": 73,
   "metadata": {},
   "outputs": [
    {
     "name": "stdout",
     "output_type": "stream",
     "text": [
      "0.956\n",
      "函数执行时间: 1888.187489271164 秒\n"
     ]
    }
   ],
   "source": [
    "right = 0\n",
    "test_sum = 1000\n",
    "start_time = time.time()\n",
    "for i in range(test_sum):\n",
    "    if test(i):\n",
    "        right = right + 1\n",
    "print(right/test_sum)\n",
    "end_time = time.time()\n",
    "execution_time = end_time - start_time\n",
    "print(f\"函数执行时间: {execution_time} 秒\")\n"
   ]
  },
  {
   "cell_type": "code",
   "execution_count": null,
   "metadata": {},
   "outputs": [],
   "source": []
  },
  {
   "cell_type": "code",
   "execution_count": null,
   "metadata": {},
   "outputs": [],
   "source": []
  },
  {
   "cell_type": "code",
   "execution_count": null,
   "metadata": {},
   "outputs": [],
   "source": []
  },
  {
   "cell_type": "code",
   "execution_count": null,
   "metadata": {},
   "outputs": [],
   "source": []
  },
  {
   "cell_type": "code",
   "execution_count": null,
   "metadata": {},
   "outputs": [],
   "source": []
  },
  {
   "cell_type": "code",
   "execution_count": null,
   "metadata": {},
   "outputs": [],
   "source": []
  },
  {
   "cell_type": "code",
   "execution_count": null,
   "metadata": {},
   "outputs": [],
   "source": []
  }
 ],
 "metadata": {
  "kernelspec": {
   "display_name": "Python 3",
   "language": "python",
   "name": "python3"
  },
  "language_info": {
   "codemirror_mode": {
    "name": "ipython",
    "version": 3
   },
   "file_extension": ".py",
   "mimetype": "text/x-python",
   "name": "python",
   "nbconvert_exporter": "python",
   "pygments_lexer": "ipython3",
   "version": "3.6.5"
  }
 },
 "nbformat": 4,
 "nbformat_minor": 2
}
